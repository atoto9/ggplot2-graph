{
 "cells": [
  {
   "cell_type": "code",
   "execution_count": 1,
   "metadata": {
    "collapsed": true
   },
   "outputs": [],
   "source": [
    "library(ggplot2)\n",
    "library(plyr)\n",
    "#load(\"C:/Users/6609/Documents/data.rData\")\n",
    "Sample <- read.csv(\"data/Sample.csv\")"
   ]
  },
  {
   "cell_type": "code",
   "execution_count": 2,
   "metadata": {
    "collapsed": false
   },
   "outputs": [
    {
     "name": "stdout",
     "output_type": "stream",
     "text": [
      "'data.frame':\t9426 obs. of  24 variables:\n",
      " $ Row.ID              : int  18606 20847 23086 23087 23088 23597 25549 20228 19483 24782 ...\n",
      " $ Order.Priority      : Factor w/ 6 levels \"Critical\",\"Critical \",..: 6 3 6 6 6 5 4 6 4 3 ...\n",
      " $ Discount            : num  0.01 0.01 0.03 0.01 0 0.09 0.08 0.02 0.08 0.01 ...\n",
      " $ Unit.Price          : num  2.88 2.84 6.68 5.68 205.99 ...\n",
      " $ Shipping.Cost       : num  0.5 0.93 6.15 3.6 2.5 14.3 26.3 26 6.81 0.99 ...\n",
      " $ Customer.ID         : int  2 3 3 3 3 3 3 5 5 6 ...\n",
      " $ Customer.Name       : Factor w/ 2703 levels \"Aaron Davies Bruce\",..: 1140 264 264 264 264 264 264 2234 2234 634 ...\n",
      " $ Ship.Mode           : Factor w/ 3 levels \"Delivery Truck\",..: 3 2 2 3 2 2 1 1 3 3 ...\n",
      " $ Customer.Segment    : Factor w/ 4 levels \"Consumer\",\"Corporate\",..: 2 2 2 2 2 2 2 3 3 3 ...\n",
      " $ Product.Category    : Factor w/ 3 levels \"Furniture\",\"Office Supplies\",..: 2 2 2 2 3 2 3 1 2 2 ...\n",
      " $ Product.Sub.Category: Factor w/ 17 levels \"Appliances\",\"Binders and Binder Accessories\",..: 8 12 11 14 17 11 10 4 11 1 ...\n",
      " $ Product.Container   : Factor w/ 7 levels \"Jumbo Box\",\"Jumbo Drum\",..: 5 7 5 6 5 5 2 2 5 5 ...\n",
      " $ Product.Name        : Factor w/ 1263 levels \"\\\"While you Were Out\\\" Message Book, One Form per Page\",..: 183 931 1206 130 1097 1187 324 567 1178 701 ...\n",
      " $ Product.Base.Margin : num  0.36 0.54 0.37 0.56 0.59 0.37 0.38 0.6 0.36 0.56 ...\n",
      " $ Region              : Factor w/ 4 levels \"Central\",\"East\",..: 1 4 4 4 4 4 4 4 4 4 ...\n",
      " $ State.or.Province   : Factor w/ 49 levels \"Alabama\",\"Arizona\",..: 12 46 46 46 46 46 46 4 4 4 ...\n",
      " $ City                : Factor w/ 1424 levels \"Aberdeen\",\"Abilene\",..: 5 27 27 27 27 27 27 1125 1125 1126 ...\n",
      " $ Postal.Code         : int  60101 98221 98221 98221 98221 98221 98221 91776 91776 95123 ...\n",
      " $ Order.Date          : Factor w/ 1419 levels \"2010/1/1\",\"2010/1/10\",..: 926 289 629 629 629 439 1328 93 909 573 ...\n",
      " $ Ship.Date           : Factor w/ 1450 levels \"2010/1/10\",\"2010/1/11\",..: 956 298 652 652 651 425 1384 97 946 590 ...\n",
      " $ Profit              : num  1.32 4.56 -47.64 -30.51 998.2 ...\n",
      " $ Quantity.ordered.new: int  2 4 7 7 8 37 12 12 18 16 ...\n",
      " $ Sales               : num  5.9 13 49.9 41.6 1446.7 ...\n",
      " $ Order.ID            : int  88525 88522 88523 88523 88523 88524 88526 90193 90197 90194 ...\n"
     ]
    }
   ],
   "source": [
    "str(Sample)"
   ]
  },
  {
   "cell_type": "code",
   "execution_count": 10,
   "metadata": {
    "collapsed": false
   },
   "outputs": [],
   "source": [
    "sample_data <- as.Date(Sample$Order.Date)\n",
    "year_p <- as.POSIXlt(sample_data)\n",
    "year <- year_p$year + 1900\n",
    "month <- year_p$mon + 1\n",
    "Sample <- cbind(Sample,year,month)"
   ]
  },
  {
   "cell_type": "code",
   "execution_count": 11,
   "metadata": {
    "collapsed": true
   },
   "outputs": [],
   "source": [
    "sample_area <- ddply(Sample,~year,summarise,sum=sum(Quantity.ordered.new))"
   ]
  },
  {
   "cell_type": "code",
   "execution_count": 12,
   "metadata": {
    "collapsed": false
   },
   "outputs": [
    {
     "data": {
      "text/html": [
       "<table>\n",
       "<thead><tr><th scope=col>year</th><th scope=col>sum</th></tr></thead>\n",
       "<tbody>\n",
       "\t<tr><td>2010 </td><td>25268</td></tr>\n",
       "\t<tr><td>2011 </td><td>29634</td></tr>\n",
       "\t<tr><td>2012 </td><td>32441</td></tr>\n",
       "\t<tr><td>2013 </td><td>42721</td></tr>\n",
       "</tbody>\n",
       "</table>\n"
      ],
      "text/latex": [
       "\\begin{tabular}{r|ll}\n",
       " year & sum\\\\\n",
       "\\hline\n",
       "\t 2010  & 25268\\\\\n",
       "\t 2011  & 29634\\\\\n",
       "\t 2012  & 32441\\\\\n",
       "\t 2013  & 42721\\\\\n",
       "\\end{tabular}\n"
      ],
      "text/plain": [
       "  year sum  \n",
       "1 2010 25268\n",
       "2 2011 29634\n",
       "3 2012 32441\n",
       "4 2013 42721"
      ]
     },
     "metadata": {},
     "output_type": "display_data"
    }
   ],
   "source": [
    "head(sample_area)"
   ]
  },
  {
   "cell_type": "code",
   "execution_count": 13,
   "metadata": {
    "collapsed": false
   },
   "outputs": [
    {
     "data": {},
     "metadata": {},
     "output_type": "display_data"
    },
    {
     "data": {
      "image/png": "[encoded data removed]",
      "text/plain": [
       "plot without title"
      ]
     },
     "metadata": {},
     "output_type": "display_data"
    }
   ],
   "source": [
    "#only year area-chart\n",
    "ggplot(sample_area,aes(x=year, y=sum)) + geom_area()"
   ]
  },
  {
   "cell_type": "code",
   "execution_count": 14,
   "metadata": {
    "collapsed": true
   },
   "outputs": [],
   "source": [
    "sample_area <- ddply(Sample, c(\"year\",\"Region\"),summarise,sum=sum(Quantity.ordered.new))"
   ]
  },
  {
   "cell_type": "code",
   "execution_count": 15,
   "metadata": {
    "collapsed": false
   },
   "outputs": [
    {
     "data": {
      "text/html": [
       "<table>\n",
       "<thead><tr><th scope=col>year</th><th scope=col>Region</th><th scope=col>sum</th></tr></thead>\n",
       "<tbody>\n",
       "\t<tr><td>2010   </td><td>Central</td><td>6575   </td></tr>\n",
       "\t<tr><td>2010   </td><td>East   </td><td>7031   </td></tr>\n",
       "\t<tr><td>2010   </td><td>South  </td><td>5045   </td></tr>\n",
       "\t<tr><td>2010   </td><td>West   </td><td>6617   </td></tr>\n",
       "\t<tr><td>2011   </td><td>Central</td><td>8788   </td></tr>\n",
       "\t<tr><td>2011   </td><td>East   </td><td>7984   </td></tr>\n",
       "</tbody>\n",
       "</table>\n"
      ],
      "text/latex": [
       "\\begin{tabular}{r|lll}\n",
       " year & Region & sum\\\\\n",
       "\\hline\n",
       "\t 2010    & Central & 6575   \\\\\n",
       "\t 2010    & East    & 7031   \\\\\n",
       "\t 2010    & South   & 5045   \\\\\n",
       "\t 2010    & West    & 6617   \\\\\n",
       "\t 2011    & Central & 8788   \\\\\n",
       "\t 2011    & East    & 7984   \\\\\n",
       "\\end{tabular}\n"
      ],
      "text/plain": [
       "  year Region  sum \n",
       "1 2010 Central 6575\n",
       "2 2010 East    7031\n",
       "3 2010 South   5045\n",
       "4 2010 West    6617\n",
       "5 2011 Central 8788\n",
       "6 2011 East    7984"
      ]
     },
     "metadata": {},
     "output_type": "display_data"
    }
   ],
   "source": [
    "head(sample_area)"
   ]
  },
  {
   "cell_type": "code",
   "execution_count": 16,
   "metadata": {
    "collapsed": false,
    "scrolled": false
   },
   "outputs": [
    {
     "data": {},
     "metadata": {},
     "output_type": "display_data"
    },
    {
     "data": {
      "image/png": "[encoded data removed]",
      "text/plain": [
       "plot without title"
      ]
     },
     "metadata": {},
     "output_type": "display_data"
    }
   ],
   "source": [
    "#including:region, year\n",
    "ggplot(sample_area,aes(x=year, y=sum)) + geom_area() + facet_grid(. ~ Region)"
   ]
  },
  {
   "cell_type": "code",
   "execution_count": 17,
   "metadata": {
    "collapsed": false
   },
   "outputs": [
    {
     "data": {
      "text/html": [
       "<table>\n",
       "<thead><tr><th scope=col>Row.ID</th><th scope=col>Order.Priority</th><th scope=col>Discount</th><th scope=col>Unit.Price</th><th scope=col>Shipping.Cost</th><th scope=col>Customer.ID</th><th scope=col>Customer.Name</th><th scope=col>Ship.Mode</th><th scope=col>Customer.Segment</th><th scope=col>Product.Category</th><th scope=col>...</th><th scope=col>Ship.Date</th><th scope=col>Profit</th><th scope=col>Quantity.ordered.new</th><th scope=col>Sales</th><th scope=col>Order.ID</th><th scope=col>year</th><th scope=col>month</th><th scope=col>year.1</th><th scope=col>month.1</th><th scope=col>sample_quarter</th></tr></thead>\n",
       "<tbody>\n",
       "\t<tr><td>18606          </td><td>Not Specified  </td><td>0.01           </td><td>  2.88         </td><td> 0.50          </td><td>2              </td><td>Janice Fletcher</td><td>Regular Air    </td><td>Corporate      </td><td>Office Supplies</td><td>...            </td><td>2012/5/30      </td><td>   1.3200      </td><td> 2             </td><td>   5.90        </td><td>88525          </td><td>2012           </td><td> 5             </td><td>2012           </td><td> 5             </td><td>Q2             </td></tr>\n",
       "\t<tr><td>20847          </td><td>High           </td><td>0.01           </td><td>  2.84         </td><td> 0.93          </td><td>3              </td><td>Bonnie Potter  </td><td>Express Air    </td><td>Corporate      </td><td>Office Supplies</td><td>...            </td><td>2010/7/8       </td><td>   4.5600      </td><td> 4             </td><td>  13.01        </td><td>88522          </td><td>2010           </td><td> 7             </td><td>2010           </td><td> 7             </td><td>Q3             </td></tr>\n",
       "\t<tr><td>23086          </td><td>Not Specified  </td><td>0.03           </td><td>  6.68         </td><td> 6.15          </td><td>3              </td><td>Bonnie Potter  </td><td>Express Air    </td><td>Corporate      </td><td>Office Supplies</td><td>...            </td><td>2011/7/28      </td><td> -47.6400      </td><td> 7             </td><td>  49.92        </td><td>88523          </td><td>2011           </td><td> 7             </td><td>2011           </td><td> 7             </td><td>Q3             </td></tr>\n",
       "\t<tr><td>23087          </td><td>Not Specified  </td><td>0.01           </td><td>  5.68         </td><td> 3.60          </td><td>3              </td><td>Bonnie Potter  </td><td>Regular Air    </td><td>Corporate      </td><td>Office Supplies</td><td>...            </td><td>2011/7/28      </td><td> -30.5100      </td><td> 7             </td><td>  41.64        </td><td>88523          </td><td>2011           </td><td> 7             </td><td>2011           </td><td> 7             </td><td>Q3             </td></tr>\n",
       "\t<tr><td>23088          </td><td>Not Specified  </td><td>0.00           </td><td>205.99         </td><td> 2.50          </td><td>3              </td><td>Bonnie Potter  </td><td>Express Air    </td><td>Corporate      </td><td>Technology     </td><td>...            </td><td>2011/7/27      </td><td> 998.2023      </td><td> 8             </td><td>1446.67        </td><td>88523          </td><td>2011           </td><td> 7             </td><td>2011           </td><td> 7             </td><td>Q3             </td></tr>\n",
       "\t<tr><td>23597          </td><td>Medium         </td><td>0.09           </td><td> 55.48         </td><td>14.30          </td><td>3              </td><td>Bonnie Potter  </td><td>Express Air    </td><td>Corporate      </td><td>Office Supplies</td><td>...            </td><td>2011/11/11     </td><td>1388.0523      </td><td>37             </td><td>2011.67        </td><td>88524          </td><td>2011           </td><td>11             </td><td>2011           </td><td>11             </td><td>Q4             </td></tr>\n",
       "</tbody>\n",
       "</table>\n"
      ],
      "text/latex": [
       "\\begin{tabular}{r|lllllllllllllllllllllllllllll}\n",
       " Row.ID & Order.Priority & Discount & Unit.Price & Shipping.Cost & Customer.ID & Customer.Name & Ship.Mode & Customer.Segment & Product.Category & ... & Ship.Date & Profit & Quantity.ordered.new & Sales & Order.ID & year & month & year.1 & month.1 & sample\\_quarter\\\\\n",
       "\\hline\n",
       "\t 18606           & Not Specified   & 0.01            &   2.88          &  0.50           & 2               & Janice Fletcher & Regular Air     & Corporate       & Office Supplies & ...             & 2012/5/30       &    1.3200       &  2              &    5.90         & 88525           & 2012            &  5              & 2012            &  5              & Q2             \\\\\n",
       "\t 20847           & High            & 0.01            &   2.84          &  0.93           & 3               & Bonnie Potter   & Express Air     & Corporate       & Office Supplies & ...             & 2010/7/8        &    4.5600       &  4              &   13.01         & 88522           & 2010            &  7              & 2010            &  7              & Q3             \\\\\n",
       "\t 23086           & Not Specified   & 0.03            &   6.68          &  6.15           & 3               & Bonnie Potter   & Express Air     & Corporate       & Office Supplies & ...             & 2011/7/28       &  -47.6400       &  7              &   49.92         & 88523           & 2011            &  7              & 2011            &  7              & Q3             \\\\\n",
       "\t 23087           & Not Specified   & 0.01            &   5.68          &  3.60           & 3               & Bonnie Potter   & Regular Air     & Corporate       & Office Supplies & ...             & 2011/7/28       &  -30.5100       &  7              &   41.64         & 88523           & 2011            &  7              & 2011            &  7              & Q3             \\\\\n",
       "\t 23088           & Not Specified   & 0.00            & 205.99          &  2.50           & 3               & Bonnie Potter   & Express Air     & Corporate       & Technology      & ...             & 2011/7/27       &  998.2023       &  8              & 1446.67         & 88523           & 2011            &  7              & 2011            &  7              & Q3             \\\\\n",
       "\t 23597           & Medium          & 0.09            &  55.48          & 14.30           & 3               & Bonnie Potter   & Express Air     & Corporate       & Office Supplies & ...             & 2011/11/11      & 1388.0523       & 37              & 2011.67         & 88524           & 2011            & 11              & 2011            & 11              & Q4             \\\\\n",
       "\\end{tabular}\n"
      ],
      "text/plain": [
       "  Row.ID Order.Priority Discount Unit.Price Shipping.Cost Customer.ID\n",
       "1 18606  Not Specified  0.01       2.88      0.50         2          \n",
       "2 20847  High           0.01       2.84      0.93         3          \n",
       "3 23086  Not Specified  0.03       6.68      6.15         3          \n",
       "4 23087  Not Specified  0.01       5.68      3.60         3          \n",
       "5 23088  Not Specified  0.00     205.99      2.50         3          \n",
       "6 23597  Medium         0.09      55.48     14.30         3          \n",
       "  Customer.Name   Ship.Mode   Customer.Segment Product.Category ... Ship.Date \n",
       "1 Janice Fletcher Regular Air Corporate        Office Supplies  ... 2012/5/30 \n",
       "2 Bonnie Potter   Express Air Corporate        Office Supplies  ... 2010/7/8  \n",
       "3 Bonnie Potter   Express Air Corporate        Office Supplies  ... 2011/7/28 \n",
       "4 Bonnie Potter   Regular Air Corporate        Office Supplies  ... 2011/7/28 \n",
       "5 Bonnie Potter   Express Air Corporate        Technology       ... 2011/7/27 \n",
       "6 Bonnie Potter   Express Air Corporate        Office Supplies  ... 2011/11/11\n",
       "  Profit    Quantity.ordered.new Sales   Order.ID year month year.1 month.1\n",
       "1    1.3200  2                      5.90 88525    2012  5    2012    5     \n",
       "2    4.5600  4                     13.01 88522    2010  7    2010    7     \n",
       "3  -47.6400  7                     49.92 88523    2011  7    2011    7     \n",
       "4  -30.5100  7                     41.64 88523    2011  7    2011    7     \n",
       "5  998.2023  8                   1446.67 88523    2011  7    2011    7     \n",
       "6 1388.0523 37                   2011.67 88524    2011 11    2011   11     \n",
       "  sample_quarter\n",
       "1 Q2            \n",
       "2 Q3            \n",
       "3 Q3            \n",
       "4 Q3            \n",
       "5 Q3            \n",
       "6 Q4            "
      ]
     },
     "metadata": {},
     "output_type": "display_data"
    }
   ],
   "source": [
    "Sample$Order.Date <- as.Date(Sample$Order.Date)\n",
    "sample_quarter <- quarters(Sample$Order.Date)\n",
    "Sample <- cbind(Sample,sample_quarter)\n",
    "head(Sample)"
   ]
  },
  {
   "cell_type": "code",
   "execution_count": 19,
   "metadata": {
    "collapsed": false
   },
   "outputs": [
    {
     "data": {
      "text/html": [
       "<table>\n",
       "<thead><tr><th scope=col>year</th><th scope=col>sample_quarter</th><th scope=col>Region</th><th scope=col>sum</th></tr></thead>\n",
       "<tbody>\n",
       "\t<tr><td>2010   </td><td>Q1     </td><td>Central</td><td>1152   </td></tr>\n",
       "\t<tr><td>2010   </td><td>Q1     </td><td>East   </td><td>1224   </td></tr>\n",
       "\t<tr><td>2010   </td><td>Q1     </td><td>South  </td><td> 986   </td></tr>\n",
       "\t<tr><td>2010   </td><td>Q1     </td><td>West   </td><td>1163   </td></tr>\n",
       "\t<tr><td>2010   </td><td>Q2     </td><td>Central</td><td>1007   </td></tr>\n",
       "\t<tr><td>2010   </td><td>Q2     </td><td>East   </td><td>1989   </td></tr>\n",
       "</tbody>\n",
       "</table>\n"
      ],
      "text/latex": [
       "\\begin{tabular}{r|llll}\n",
       " year & sample\\_quarter & Region & sum\\\\\n",
       "\\hline\n",
       "\t 2010    & Q1      & Central & 1152   \\\\\n",
       "\t 2010    & Q1      & East    & 1224   \\\\\n",
       "\t 2010    & Q1      & South   &  986   \\\\\n",
       "\t 2010    & Q1      & West    & 1163   \\\\\n",
       "\t 2010    & Q2      & Central & 1007   \\\\\n",
       "\t 2010    & Q2      & East    & 1989   \\\\\n",
       "\\end{tabular}\n"
      ],
      "text/plain": [
       "  year sample_quarter Region  sum \n",
       "1 2010 Q1             Central 1152\n",
       "2 2010 Q1             East    1224\n",
       "3 2010 Q1             South    986\n",
       "4 2010 Q1             West    1163\n",
       "5 2010 Q2             Central 1007\n",
       "6 2010 Q2             East    1989"
      ]
     },
     "metadata": {},
     "output_type": "display_data"
    }
   ],
   "source": [
    "sample_area <- ddply(Sample, c(\"year\",\"sample_quarter\",\"Region\"),summarise,sum=sum(Quantity.ordered.new))\n",
    "head(sample_area)"
   ]
  },
  {
   "cell_type": "code",
   "execution_count": 20,
   "metadata": {
    "collapsed": false
   },
   "outputs": [
    {
     "data": {
      "text/html": [
       "'factor'"
      ],
      "text/latex": [
       "'factor'"
      ],
      "text/markdown": [
       "'factor'"
      ],
      "text/plain": [
       "[1] \"factor\""
      ]
     },
     "metadata": {},
     "output_type": "display_data"
    }
   ],
   "source": [
    "class(sample_area$sample_quarter)"
   ]
  },
  {
   "cell_type": "code",
   "execution_count": 21,
   "metadata": {
    "collapsed": true
   },
   "outputs": [],
   "source": [
    "#class(quarter):factor cannot draw an area-chart\n",
    "#So, we have to change type to numeric\n",
    "#remove \"Q\", and add\"\"\n",
    "sample_area$sample_quarter <- gsub(\"Q\", \"\", sample_area$sample_quarter)\n",
    "#as.numeric\n",
    "sample_area$sample_quarter <- as.numeric(sample_area$sample_quarter)"
   ]
  },
  {
   "cell_type": "code",
   "execution_count": 27,
   "metadata": {
    "collapsed": false
   },
   "outputs": [
    {
     "data": {},
     "metadata": {},
     "output_type": "display_data"
    },
    {
     "data": {
      "image/png": "[encoded data removed]",
      "text/plain": [
       "plot without title"
      ]
     },
     "metadata": {},
     "output_type": "display_data"
    }
   ],
   "source": [
    "# rename : quarter \n",
    "colnames(sample_area)[2] <- \"Quarter\"\n",
    "# two variable : facet_grid(Region ~ year) ; one variable : facet_grid(. ~ Region)\n",
    "ggplot(sample_area,aes(x=Quarter, y=sum)) + geom_area() + facet_grid(Region ~ year)"
   ]
  }
 ],
 "metadata": {
  "kernelspec": {
   "display_name": "R 3.3",
   "language": "R",
   "name": "ir33"
  },
  "language_info": {
   "codemirror_mode": "r",
   "file_extension": ".r",
   "mimetype": "text/x-r-source",
   "name": "R",
   "pygments_lexer": "r",
   "version": "3.3.1"
  }
 },
 "nbformat": 4,
 "nbformat_minor": 0
}
