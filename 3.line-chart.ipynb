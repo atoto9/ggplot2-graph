{
 "cells": [
  {
   "cell_type": "code",
   "execution_count": 1,
   "metadata": {
    "collapsed": true
   },
   "outputs": [],
   "source": [
    "library(ggplot2)\n",
    "library(plyr)\n",
    "#load(\"C:/Users/6609/Documents/data.rData\")"
   ]
  },
  {
   "cell_type": "code",
   "execution_count": 4,
   "metadata": {
    "collapsed": false
   },
   "outputs": [],
   "source": [
    "Sample <- read.csv(\"data/Sample.csv\")"
   ]
  },
  {
   "cell_type": "code",
   "execution_count": 5,
   "metadata": {
    "collapsed": false
   },
   "outputs": [
    {
     "name": "stdout",
     "output_type": "stream",
     "text": [
      "'data.frame':\t9426 obs. of  24 variables:\n",
      " $ Row.ID              : int  18606 20847 23086 23087 23088 23597 25549 20228 19483 24782 ...\n",
      " $ Order.Priority      : Factor w/ 6 levels \"Critical\",\"Critical \",..: 6 3 6 6 6 5 4 6 4 3 ...\n",
      " $ Discount            : num  0.01 0.01 0.03 0.01 0 0.09 0.08 0.02 0.08 0.01 ...\n",
      " $ Unit.Price          : num  2.88 2.84 6.68 5.68 205.99 ...\n",
      " $ Shipping.Cost       : num  0.5 0.93 6.15 3.6 2.5 14.3 26.3 26 6.81 0.99 ...\n",
      " $ Customer.ID         : int  2 3 3 3 3 3 3 5 5 6 ...\n",
      " $ Customer.Name       : Factor w/ 2703 levels \"Aaron Davies Bruce\",..: 1140 264 264 264 264 264 264 2234 2234 634 ...\n",
      " $ Ship.Mode           : Factor w/ 3 levels \"Delivery Truck\",..: 3 2 2 3 2 2 1 1 3 3 ...\n",
      " $ Customer.Segment    : Factor w/ 4 levels \"Consumer\",\"Corporate\",..: 2 2 2 2 2 2 2 3 3 3 ...\n",
      " $ Product.Category    : Factor w/ 3 levels \"Furniture\",\"Office Supplies\",..: 2 2 2 2 3 2 3 1 2 2 ...\n",
      " $ Product.Sub.Category: Factor w/ 17 levels \"Appliances\",\"Binders and Binder Accessories\",..: 8 12 11 14 17 11 10 4 11 1 ...\n",
      " $ Product.Container   : Factor w/ 7 levels \"Jumbo Box\",\"Jumbo Drum\",..: 5 7 5 6 5 5 2 2 5 5 ...\n",
      " $ Product.Name        : Factor w/ 1263 levels \"\\\"While you Were Out\\\" Message Book, One Form per Page\",..: 183 931 1206 130 1097 1187 324 567 1178 701 ...\n",
      " $ Product.Base.Margin : num  0.36 0.54 0.37 0.56 0.59 0.37 0.38 0.6 0.36 0.56 ...\n",
      " $ Region              : Factor w/ 4 levels \"Central\",\"East\",..: 1 4 4 4 4 4 4 4 4 4 ...\n",
      " $ State.or.Province   : Factor w/ 49 levels \"Alabama\",\"Arizona\",..: 12 46 46 46 46 46 46 4 4 4 ...\n",
      " $ City                : Factor w/ 1424 levels \"Aberdeen\",\"Abilene\",..: 5 27 27 27 27 27 27 1125 1125 1126 ...\n",
      " $ Postal.Code         : int  60101 98221 98221 98221 98221 98221 98221 91776 91776 95123 ...\n",
      " $ Order.Date          : Factor w/ 1419 levels \"2010/1/1\",\"2010/1/10\",..: 926 289 629 629 629 439 1328 93 909 573 ...\n",
      " $ Ship.Date           : Factor w/ 1450 levels \"2010/1/10\",\"2010/1/11\",..: 956 298 652 652 651 425 1384 97 946 590 ...\n",
      " $ Profit              : num  1.32 4.56 -47.64 -30.51 998.2 ...\n",
      " $ Quantity.ordered.new: int  2 4 7 7 8 37 12 12 18 16 ...\n",
      " $ Sales               : num  5.9 13 49.9 41.6 1446.7 ...\n",
      " $ Order.ID            : int  88525 88522 88523 88523 88523 88524 88526 90193 90197 90194 ...\n"
     ]
    }
   ],
   "source": [
    "str(Sample)"
   ]
  },
  {
   "cell_type": "code",
   "execution_count": 8,
   "metadata": {
    "collapsed": false
   },
   "outputs": [
    {
     "data": {
      "text/html": [
       "<dl>\n",
       "\t<dt>$names</dt>\n",
       "\t\t<dd><ol class=list-inline>\n",
       "\t<li>'sec'</li>\n",
       "\t<li>'min'</li>\n",
       "\t<li>'hour'</li>\n",
       "\t<li>'mday'</li>\n",
       "\t<li>'mon'</li>\n",
       "\t<li>'year'</li>\n",
       "\t<li>'wday'</li>\n",
       "\t<li>'yday'</li>\n",
       "\t<li>'isdst'</li>\n",
       "</ol>\n",
       "</dd>\n",
       "\t<dt>$class</dt>\n",
       "\t\t<dd><ol class=list-inline>\n",
       "\t<li>'POSIXlt'</li>\n",
       "\t<li>'POSIXt'</li>\n",
       "</ol>\n",
       "</dd>\n",
       "\t<dt>$tzone</dt>\n",
       "\t\t<dd>'UTC'</dd>\n",
       "</dl>\n"
      ],
      "text/latex": [
       "\\begin{description}\n",
       "\\item[\\$names] \\begin{enumerate*}\n",
       "\\item 'sec'\n",
       "\\item 'min'\n",
       "\\item 'hour'\n",
       "\\item 'mday'\n",
       "\\item 'mon'\n",
       "\\item 'year'\n",
       "\\item 'wday'\n",
       "\\item 'yday'\n",
       "\\item 'isdst'\n",
       "\\end{enumerate*}\n",
       "\n",
       "\\item[\\$class] \\begin{enumerate*}\n",
       "\\item 'POSIXlt'\n",
       "\\item 'POSIXt'\n",
       "\\end{enumerate*}\n",
       "\n",
       "\\item[\\$tzone] 'UTC'\n",
       "\\end{description}\n"
      ],
      "text/markdown": [
       "$names\n",
       ":   1. 'sec'\n",
       "2. 'min'\n",
       "3. 'hour'\n",
       "4. 'mday'\n",
       "5. 'mon'\n",
       "6. 'year'\n",
       "7. 'wday'\n",
       "8. 'yday'\n",
       "9. 'isdst'\n",
       "\n",
       "\n",
       "\n",
       "$class\n",
       ":   1. 'POSIXlt'\n",
       "2. 'POSIXt'\n",
       "\n",
       "\n",
       "\n",
       "$tzone\n",
       ":   'UTC'\n",
       "\n",
       "\n"
      ],
      "text/plain": [
       "$names\n",
       "[1] \"sec\"   \"min\"   \"hour\"  \"mday\"  \"mon\"   \"year\"  \"wday\"  \"yday\"  \"isdst\"\n",
       "\n",
       "$class\n",
       "[1] \"POSIXlt\" \"POSIXt\" \n",
       "\n",
       "$tzone\n",
       "[1] \"UTC\"\n"
      ]
     },
     "metadata": {},
     "output_type": "display_data"
    }
   ],
   "source": [
    "## class(order.date) = factor, need to transform to date\n",
    "sample_data <- as.Date(Sample$Order.Date)\n",
    "## as.POSIXlt(sample_data) POSIXlt format\n",
    "year_p <- as.POSIXlt(sample_data)\n",
    "attributes(year_p)"
   ]
  },
  {
   "cell_type": "code",
   "execution_count": 9,
   "metadata": {
    "collapsed": false
   },
   "outputs": [
    {
     "data": {
      "text/plain": [
       "[1] \"2012-05-28 UTC\" \"2010-07-07 UTC\" \"2011-07-27 UTC\" \"2011-07-27 UTC\"\n",
       "[5] \"2011-07-27 UTC\" \"2011-11-09 UTC\""
      ]
     },
     "metadata": {},
     "output_type": "display_data"
    }
   ],
   "source": [
    "head(year_p)"
   ]
  },
  {
   "cell_type": "code",
   "execution_count": 10,
   "metadata": {
    "collapsed": false
   },
   "outputs": [
    {
     "data": {
      "text/html": [
       "<ol class=list-inline>\n",
       "\t<li>112</li>\n",
       "\t<li>110</li>\n",
       "\t<li>111</li>\n",
       "\t<li>111</li>\n",
       "\t<li>111</li>\n",
       "\t<li>111</li>\n",
       "</ol>\n"
      ],
      "text/latex": [
       "\\begin{enumerate*}\n",
       "\\item 112\n",
       "\\item 110\n",
       "\\item 111\n",
       "\\item 111\n",
       "\\item 111\n",
       "\\item 111\n",
       "\\end{enumerate*}\n"
      ],
      "text/markdown": [
       "1. 112\n",
       "2. 110\n",
       "3. 111\n",
       "4. 111\n",
       "5. 111\n",
       "6. 111\n",
       "\n",
       "\n"
      ],
      "text/plain": [
       "[1] 112 110 111 111 111 111"
      ]
     },
     "metadata": {},
     "output_type": "display_data"
    }
   ],
   "source": [
    "head(year_p$year)"
   ]
  },
  {
   "cell_type": "code",
   "execution_count": 11,
   "metadata": {
    "collapsed": true
   },
   "outputs": [],
   "source": [
    "## extraction year & month\n",
    "year <- year_p$year + 1900\n",
    "month <- year_p$mon + 1"
   ]
  },
  {
   "cell_type": "code",
   "execution_count": 12,
   "metadata": {
    "collapsed": true
   },
   "outputs": [],
   "source": [
    "Sample <- cbind(Sample,year,month)"
   ]
  },
  {
   "cell_type": "code",
   "execution_count": 13,
   "metadata": {
    "collapsed": true
   },
   "outputs": [],
   "source": [
    "#ddply to get sum(sales) per month\n",
    "line_chart_data  <- ddply(Sample,c(\"year\",\"month\"),function(df) sum(df$Sales))"
   ]
  },
  {
   "cell_type": "code",
   "execution_count": 16,
   "metadata": {
    "collapsed": false
   },
   "outputs": [
    {
     "data": {
      "text/html": [
       "<table>\n",
       "<thead><tr><th scope=col>year</th><th scope=col>month</th><th scope=col>V1</th></tr></thead>\n",
       "<tbody>\n",
       "\t<tr><td>2010     </td><td>1        </td><td>139730.46</td></tr>\n",
       "\t<tr><td>2010     </td><td>2        </td><td>130534.07</td></tr>\n",
       "\t<tr><td>2010     </td><td>3        </td><td>145615.73</td></tr>\n",
       "\t<tr><td>2010     </td><td>4        </td><td>130542.99</td></tr>\n",
       "\t<tr><td>2010     </td><td>5        </td><td> 93938.81</td></tr>\n",
       "</tbody>\n",
       "</table>\n"
      ],
      "text/latex": [
       "\\begin{tabular}{r|lll}\n",
       " year & month & V1\\\\\n",
       "\\hline\n",
       "\t 2010      & 1         & 139730.46\\\\\n",
       "\t 2010      & 2         & 130534.07\\\\\n",
       "\t 2010      & 3         & 145615.73\\\\\n",
       "\t 2010      & 4         & 130542.99\\\\\n",
       "\t 2010      & 5         &  93938.81\\\\\n",
       "\\end{tabular}\n"
      ],
      "text/plain": [
       "  year month V1       \n",
       "1 2010 1     139730.46\n",
       "2 2010 2     130534.07\n",
       "3 2010 3     145615.73\n",
       "4 2010 4     130542.99\n",
       "5 2010 5      93938.81"
      ]
     },
     "metadata": {},
     "output_type": "display_data"
    }
   ],
   "source": [
    "head(line_chart_data,5)"
   ]
  },
  {
   "cell_type": "code",
   "execution_count": 17,
   "metadata": {
    "collapsed": true
   },
   "outputs": [],
   "source": [
    "colnames(line_chart_data) <- c(\"Year\",\"Month\",\"Sum(Sales)\")"
   ]
  },
  {
   "cell_type": "code",
   "execution_count": 18,
   "metadata": {
    "collapsed": true
   },
   "outputs": [],
   "source": [
    "#2010\n",
    "p1 <- ggplot(line_chart_data[1:12,],aes(x=Month,y=`Sum(Sales)`))+ geom_line(\n",
    "    ) +  scale_x_continuous(breaks=seq(1, 12, 1)) + scale_y_continuous(\n",
    "    limits=c(0, max(line_chart_data$`Sum(Sales)`)),breaks=seq(0, max(line_chart_data$`Sum(Sales)`), 100000)) + ggtitle(\"2010\") "
   ]
  },
  {
   "cell_type": "code",
   "execution_count": 19,
   "metadata": {
    "collapsed": false
   },
   "outputs": [
    {
     "data": {},
     "metadata": {},
     "output_type": "display_data"
    },
    {
     "data": {
      "image/png": "[encoded data removed]",
      "text/plain": [
       "plot without title"
      ]
     },
     "metadata": {},
     "output_type": "display_data"
    }
   ],
   "source": [
    "p1"
   ]
  },
  {
   "cell_type": "code",
   "execution_count": 20,
   "metadata": {
    "collapsed": true
   },
   "outputs": [],
   "source": [
    "#2011/2012/2013\n",
    "p2 <- ggplot(line_chart_data[13:24,],aes(x=Month,y=`Sum(Sales)`))+ geom_line(\n",
    "    ) +  scale_x_continuous(breaks=seq(1, 12, 1)) + scale_y_continuous(\n",
    "    limits=c(0, max(line_chart_data$`Sum(Sales)`)),breaks=seq(0, max(line_chart_data$`Sum(Sales)`), 100000))+ggtitle(\"2011\")\n",
    "\n",
    "p3 <- ggplot(line_chart_data[25:36,],aes(x=Month,y=`Sum(Sales)`))+ geom_line(\n",
    "    ) +  scale_x_continuous(breaks=seq(1, 12, 1)) + scale_y_continuous(\n",
    "    limits=c(0, max(line_chart_data$`Sum(Sales)`)),breaks=seq(0, max(line_chart_data$`Sum(Sales)`), 100000))+ggtitle(\"2012\")\n",
    "\n",
    "p4 <- ggplot(line_chart_data[37:48,],aes(x=Month,y=`Sum(Sales)`))+ geom_line(\n",
    "    ) +  scale_x_continuous(breaks=seq(1, 12, 1)) + scale_y_continuous(\n",
    "    limits=c(0, max(line_chart_data$`Sum(Sales)`)),breaks=seq(0, max(line_chart_data$`Sum(Sales)`), 100000))+ggtitle(\"2013\")"
   ]
  },
  {
   "cell_type": "code",
   "execution_count": 21,
   "metadata": {
    "collapsed": true
   },
   "outputs": [],
   "source": [
    "source(\"multiplot.R\")"
   ]
  },
  {
   "cell_type": "code",
   "execution_count": 23,
   "metadata": {
    "collapsed": false
   },
   "outputs": [
    {
     "data": {
      "image/png": "[encoded data removed]",
      "text/plain": [
       "plot without title"
      ]
     },
     "metadata": {},
     "output_type": "display_data"
    }
   ],
   "source": [
    "# options(scipen=999) set numeric from scientific notation\n",
    "options(scipen=999)\n",
    "multiplot(p1, p2, p3, p4, cols=2)"
   ]
  }
 ],
 "metadata": {
  "kernelspec": {
   "display_name": "R 3.3",
   "language": "R",
   "name": "ir33"
  },
  "language_info": {
   "codemirror_mode": "r",
   "file_extension": ".r",
   "mimetype": "text/x-r-source",
   "name": "R",
   "pygments_lexer": "r",
   "version": "3.3.1"
  }
 },
 "nbformat": 4,
 "nbformat_minor": 0
}
