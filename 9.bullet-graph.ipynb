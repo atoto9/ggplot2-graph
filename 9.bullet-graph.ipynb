{
 "cells": [
  {
   "cell_type": "code",
   "execution_count": 1,
   "metadata": {
    "collapsed": true
   },
   "outputs": [],
   "source": [
    "library(ggplot2)\n",
    "library(plyr)\n",
    "#load(\"C:/Users/6609/Documents/data.rData\")\n",
    "coffeechain <- read.csv(\"data/coffeechain.csv\")"
   ]
  },
  {
   "cell_type": "code",
   "execution_count": 2,
   "metadata": {
    "collapsed": false
   },
   "outputs": [
    {
     "name": "stdout",
     "output_type": "stream",
     "text": [
      "'data.frame':\t4248 obs. of  19 variables:\n",
      " $ Date          : Factor w/ 24 levels \"2012/1/1 上午 12:00:00\",..: 1 1 1 1 1 1 1 1 1 1 ...\n",
      " $ Market        : Factor w/ 4 levels \"Central\",\"East\",..: 1 1 1 1 1 1 1 1 1 1 ...\n",
      " $ Market.Size   : Factor w/ 2 levels \"Major Market\",..: 1 1 1 1 1 1 1 1 1 1 ...\n",
      " $ Product       : Factor w/ 13 levels \"Amaretto\",\"Caffe Latte\",..: 1 5 8 10 3 7 4 11 12 6 ...\n",
      " $ Product.Type  : Factor w/ 4 levels \"Coffee\",\"Espresso\",..: 1 1 1 4 2 2 3 3 3 4 ...\n",
      " $ State         : Factor w/ 20 levels \"California\",\"Colorado\",..: 2 2 2 2 2 2 2 2 2 2 ...\n",
      " $ Type          : Factor w/ 2 levels \"Decaf\",\"Regular\": 2 2 1 2 2 1 1 1 1 2 ...\n",
      " $ Area.Code     : int  719 970 970 303 303 720 970 719 970 719 ...\n",
      " $ Budget.COGS   : int  90 80 100 30 60 80 140 50 50 40 ...\n",
      " $ Budget.Margin : int  130 110 140 50 90 130 160 80 70 70 ...\n",
      " $ Budget.Profit : int  100 80 110 30 70 80 110 20 40 20 ...\n",
      " $ Budget.Sales  : Factor w/ 89 levels \"0\",\"1,110\",\"1,130\",..: 19 15 21 79 11 18 28 9 8 7 ...\n",
      " $ COGS          : int  89 83 95 44 54 72 170 63 60 58 ...\n",
      " $ Inventory     : Factor w/ 610 levels \"-1,006\",\"-1,050\",..: 496 446 525 446 341 399 69 328 267 269 ...\n",
      " $ Margin        : int  130 107 139 56 80 108 171 87 80 72 ...\n",
      " $ Marketing     : int  24 27 26 14 15 23 47 57 19 22 ...\n",
      " $ Profit        : int  94 68 101 30 54 53 99 0 33 17 ...\n",
      " $ Sales         : int  219 190 234 100 134 180 341 150 140 130 ...\n",
      " $ Total.Expenses: int  36 39 38 26 26 55 72 87 47 55 ...\n"
     ]
    }
   ],
   "source": [
    "str(coffeechain)"
   ]
  },
  {
   "cell_type": "code",
   "execution_count": 6,
   "metadata": {
    "collapsed": false
   },
   "outputs": [
    {
     "name": "stderr",
     "output_type": "stream",
     "text": [
      "Warning message:\n",
      "In eval(expr, envir, enclos): 強制變更過程中產生了 NA"
     ]
    }
   ],
   "source": [
    "#class(Budge.Profit) : factor, cannot draw a bullet chart\n",
    "#So, we have to change type to numeric\n",
    "#Because of factor have a key point :levels, cannot only use as.numeric\n",
    "coffeechain$Budget.Sales <- as.numeric(levels(coffeechain$Budget.Sales))[coffeechain$Budget.Sales]"
   ]
  },
  {
   "cell_type": "code",
   "execution_count": 8,
   "metadata": {
    "collapsed": false
   },
   "outputs": [
    {
     "data": {
      "text/html": [
       "<table>\n",
       "<thead><tr><th></th><th scope=col>Date</th><th scope=col>Market</th><th scope=col>Market.Size</th><th scope=col>Product</th><th scope=col>Product.Type</th><th scope=col>State</th><th scope=col>Type</th><th scope=col>Area.Code</th><th scope=col>Budget.COGS</th><th scope=col>Budget.Margin</th><th scope=col>Budget.Profit</th><th scope=col>Budget.Sales</th><th scope=col>COGS</th><th scope=col>Inventory</th><th scope=col>Margin</th><th scope=col>Marketing</th><th scope=col>Profit</th><th scope=col>Sales</th><th scope=col>Total.Expenses</th></tr></thead>\n",
       "<tbody>\n",
       "\t<tr><th scope=row>1023</th><td>2012/6/1 上午 12:00:00</td><td>West                  </td><td>Major Market          </td><td>Colombian             </td><td>Coffee                </td><td>California            </td><td>Regular               </td><td>805                   </td><td>440                   </td><td>670                   </td><td>500                   </td><td>NA                    </td><td>356                   </td><td>2,476                 </td><td>534                   </td><td>124                   </td><td>357                   </td><td>890                   </td><td>177                   </td></tr>\n",
       "\t<tr><th scope=row>1197</th><td>2012/7/1 上午 12:00:00</td><td>West                  </td><td>Major Market          </td><td>Colombian             </td><td>Coffee                </td><td>California            </td><td>Regular               </td><td>707                   </td><td>450                   </td><td>690                   </td><td>530                   </td><td>NA                    </td><td>364                   </td><td>2,654                 </td><td>548                   </td><td>127                   </td><td>370                   </td><td>912                   </td><td>178                   </td></tr>\n",
       "\t<tr><th scope=row>1374</th><td>2012/8/1 上午 12:00:00</td><td>West                  </td><td>Major Market          </td><td>Colombian             </td><td>Coffee                </td><td>California            </td><td>Regular               </td><td>650                   </td><td>450                   </td><td>680                   </td><td>520                   </td><td>NA                    </td><td>364                   </td><td>2,617                 </td><td>546                   </td><td>127                   </td><td>368                   </td><td>910                   </td><td>178                   </td></tr>\n",
       "\t<tr><th scope=row>3153</th><td>2013/6/1 上午 12:00:00</td><td>West                  </td><td>Major Market          </td><td>Colombian             </td><td>Coffee                </td><td>California            </td><td>Regular               </td><td>530                   </td><td>440                   </td><td>670                   </td><td>500                   </td><td>NA                    </td><td>356                   </td><td>2,476                 </td><td>534                   </td><td>124                   </td><td>493                   </td><td>882                   </td><td>165                   </td></tr>\n",
       "\t<tr><th scope=row>3327</th><td>2013/7/1 上午 12:00:00</td><td>West                  </td><td>Major Market          </td><td>Colombian             </td><td>Coffee                </td><td>California            </td><td>Regular               </td><td>650                   </td><td>450                   </td><td>690                   </td><td>530                   </td><td>NA                    </td><td>364                   </td><td>2,654                 </td><td>548                   </td><td>127                   </td><td>511                   </td><td>904                   </td><td>166                   </td></tr>\n",
       "\t<tr><th scope=row>3504</th><td>2013/8/1 上午 12:00:00</td><td>West                  </td><td>Major Market          </td><td>Colombian             </td><td>Coffee                </td><td>California            </td><td>Regular               </td><td>213                   </td><td>450                   </td><td>680                   </td><td>520                   </td><td>NA                    </td><td>364                   </td><td>2,617                 </td><td>546                   </td><td>127                   </td><td>508                   </td><td>902                   </td><td>166                   </td></tr>\n",
       "</tbody>\n",
       "</table>\n"
      ],
      "text/latex": [
       "\\begin{tabular}{r|lllllllllllllllllll}\n",
       "  & Date & Market & Market.Size & Product & Product.Type & State & Type & Area.Code & Budget.COGS & Budget.Margin & Budget.Profit & Budget.Sales & COGS & Inventory & Margin & Marketing & Profit & Sales & Total.Expenses\\\\\n",
       "\\hline\n",
       "\t1023 & 2012/6/1 上午 12:00:00 & West                   & Major Market           & Colombian              & Coffee                 & California             & Regular                & 805                    & 440                    & 670                    & 500                    & NA                     & 356                    & 2,476                  & 534                    & 124                    & 357                    & 890                    & 177                   \\\\\n",
       "\t1197 & 2012/7/1 上午 12:00:00 & West                   & Major Market           & Colombian              & Coffee                 & California             & Regular                & 707                    & 450                    & 690                    & 530                    & NA                     & 364                    & 2,654                  & 548                    & 127                    & 370                    & 912                    & 178                   \\\\\n",
       "\t1374 & 2012/8/1 上午 12:00:00 & West                   & Major Market           & Colombian              & Coffee                 & California             & Regular                & 650                    & 450                    & 680                    & 520                    & NA                     & 364                    & 2,617                  & 546                    & 127                    & 368                    & 910                    & 178                   \\\\\n",
       "\t3153 & 2013/6/1 上午 12:00:00 & West                   & Major Market           & Colombian              & Coffee                 & California             & Regular                & 530                    & 440                    & 670                    & 500                    & NA                     & 356                    & 2,476                  & 534                    & 124                    & 493                    & 882                    & 165                   \\\\\n",
       "\t3327 & 2013/7/1 上午 12:00:00 & West                   & Major Market           & Colombian              & Coffee                 & California             & Regular                & 650                    & 450                    & 690                    & 530                    & NA                     & 364                    & 2,654                  & 548                    & 127                    & 511                    & 904                    & 166                   \\\\\n",
       "\t3504 & 2013/8/1 上午 12:00:00 & West                   & Major Market           & Colombian              & Coffee                 & California             & Regular                & 213                    & 450                    & 680                    & 520                    & NA                     & 364                    & 2,617                  & 546                    & 127                    & 508                    & 902                    & 166                   \\\\\n",
       "\\end{tabular}\n"
      ],
      "text/plain": [
       "     Date                   Market Market.Size  Product   Product.Type\n",
       "1023 2012/6/1 上午 12:00:00 West   Major Market Colombian Coffee      \n",
       "1197 2012/7/1 上午 12:00:00 West   Major Market Colombian Coffee      \n",
       "1374 2012/8/1 上午 12:00:00 West   Major Market Colombian Coffee      \n",
       "3153 2013/6/1 上午 12:00:00 West   Major Market Colombian Coffee      \n",
       "3327 2013/7/1 上午 12:00:00 West   Major Market Colombian Coffee      \n",
       "3504 2013/8/1 上午 12:00:00 West   Major Market Colombian Coffee      \n",
       "     State      Type    Area.Code Budget.COGS Budget.Margin Budget.Profit\n",
       "1023 California Regular 805       440         670           500          \n",
       "1197 California Regular 707       450         690           530          \n",
       "1374 California Regular 650       450         680           520          \n",
       "3153 California Regular 530       440         670           500          \n",
       "3327 California Regular 650       450         690           530          \n",
       "3504 California Regular 213       450         680           520          \n",
       "     Budget.Sales COGS Inventory Margin Marketing Profit Sales Total.Expenses\n",
       "1023 NA           356  2,476     534    124       357    890   177           \n",
       "1197 NA           364  2,654     548    127       370    912   178           \n",
       "1374 NA           364  2,617     546    127       368    910   178           \n",
       "3153 NA           356  2,476     534    124       493    882   165           \n",
       "3327 NA           364  2,654     548    127       511    904   166           \n",
       "3504 NA           364  2,617     546    127       508    902   166           "
      ]
     },
     "metadata": {},
     "output_type": "display_data"
    }
   ],
   "source": [
    "#to find where is the value of na\n",
    "coffeechain_na <- subset(coffeechain, is.na(Budget.Sales))\n",
    "coffeechain_na"
   ]
  },
  {
   "cell_type": "code",
   "execution_count": 9,
   "metadata": {
    "collapsed": true
   },
   "outputs": [],
   "source": [
    "#fill the na gap\n",
    "coffeechain$Budget.Sales[1023] <- 1100\n",
    "coffeechain$Budget.Sales[1197] <- 1140\n",
    "coffeechain$Budget.Sales[1374] <- 1130\n",
    "coffeechain$Budget.Sales[3153] <- 1110\n",
    "coffeechain$Budget.Sales[3327] <- 1140\n",
    "coffeechain$Budget.Sales[3504] <- 1130"
   ]
  },
  {
   "cell_type": "code",
   "execution_count": 16,
   "metadata": {
    "collapsed": false
   },
   "outputs": [
    {
     "data": {
      "text/html": [
       "<table>\n",
       "<thead><tr><th scope=col>Type</th><th scope=col>Market</th><th scope=col>sales</th><th scope=col>budget_sales</th></tr></thead>\n",
       "<tbody>\n",
       "\t<tr><td>Decaf  </td><td>Central</td><td>118528 </td><td>111160 </td></tr>\n",
       "\t<tr><td>Decaf  </td><td>East   </td><td> 55343 </td><td> 42180 </td></tr>\n",
       "\t<tr><td>Decaf  </td><td>South  </td><td> 52654 </td><td> 49100 </td></tr>\n",
       "\t<tr><td>Decaf  </td><td>West   </td><td>121099 </td><td>110780 </td></tr>\n",
       "\t<tr><td>Regular</td><td>Central</td><td>146517 </td><td>139200 </td></tr>\n",
       "\t<tr><td>Regular</td><td>East   </td><td>123233 </td><td>115720 </td></tr>\n",
       "</tbody>\n",
       "</table>\n"
      ],
      "text/latex": [
       "\\begin{tabular}{r|llll}\n",
       " Type & Market & sales & budget\\_sales\\\\\n",
       "\\hline\n",
       "\t Decaf   & Central & 118528  & 111160 \\\\\n",
       "\t Decaf   & East    &  55343  &  42180 \\\\\n",
       "\t Decaf   & South   &  52654  &  49100 \\\\\n",
       "\t Decaf   & West    & 121099  & 110780 \\\\\n",
       "\t Regular & Central & 146517  & 139200 \\\\\n",
       "\t Regular & East    & 123233  & 115720 \\\\\n",
       "\\end{tabular}\n"
      ],
      "text/plain": [
       "  Type    Market  sales  budget_sales\n",
       "1 Decaf   Central 118528 111160      \n",
       "2 Decaf   East     55343  42180      \n",
       "3 Decaf   South    52654  49100      \n",
       "4 Decaf   West    121099 110780      \n",
       "5 Regular Central 146517 139200      \n",
       "6 Regular East    123233 115720      "
      ]
     },
     "metadata": {},
     "output_type": "display_data"
    }
   ],
   "source": [
    "coffee_bullet <- ddply(coffeechain,c(\"Type\",\"Market\"),summarise,sales = sum(Sales),budget_sales = sum(Budget.Sales))\n",
    "head(coffee_bullet)"
   ]
  },
  {
   "cell_type": "code",
   "execution_count": 19,
   "metadata": {
    "collapsed": false,
    "scrolled": false
   },
   "outputs": [
    {
     "data": {},
     "metadata": {},
     "output_type": "display_data"
    },
    {
     "data": {
      "image/png": "[encoded data removed]",
      "text/plain": [
       "plot without title"
      ]
     },
     "metadata": {},
     "output_type": "display_data"
    }
   ],
   "source": [
    "#multiplot chart way 1\n",
    "ggplot(coffee_bullet,aes(x=Market,y=sales)) + geom_bar(\n",
    "    aes(y=budget_sales), width = 0.8, stat = \"identity\", fill=\"red\", colour=\"black\") + geom_bar(\n",
    "    width=0.5,stat=\"identity\", fill=\"lightblue\", colour=\"black\") +scale_x_discrete(\n",
    "    limits=rev(levels(coffee_bullet$Market))) + scale_y_continuous(\n",
    "    limits=c(0, 160000), breaks=seq(0,160000,10000)) + ylab(\n",
    "    \"Sales(lightblue) / Budget.Sales(red)\") + coord_flip() + facet_grid(Type ~ .)"
   ]
  },
  {
   "cell_type": "code",
   "execution_count": 21,
   "metadata": {
    "collapsed": false
   },
   "outputs": [
    {
     "data": {
      "image/png": "[encoded data removed]",
      "text/plain": [
       "plot without title"
      ]
     },
     "metadata": {},
     "output_type": "display_data"
    }
   ],
   "source": [
    "#multiplot chart way 2\n",
    "source(\"function/multiplot.R\")\n",
    "decaf <- ggplot(coffee_bullet[1:4,],aes(x=Market,y=sales)) + geom_bar(\n",
    "    aes(y=budget_sales), width = 0.8, stat = \"identity\", fill=\"red\", colour=\"black\") + geom_bar(\n",
    "    width=0.5,stat=\"identity\", fill=\"lightblue\", colour=\"black\") +scale_x_discrete(\n",
    "    limits=rev(levels(coffee_bullet$Market))) + scale_y_continuous(\n",
    "    limits=c(0, 160000), breaks=seq(0,160000,10000)) + ylab(\n",
    "    \"Sales(lightblue) / Budget.Sales(red)\") + coord_flip() + ggtitle(\"Type = Decaf\")\n",
    "\n",
    "regular <- ggplot(coffee_bullet[5:8,],aes(x=Market,y=sales)) + geom_bar(\n",
    "    aes(y=budget_sales), width = 0.8, stat = \"identity\", fill=\"red\", colour=\"black\") + geom_bar(\n",
    "    width=0.5,stat=\"identity\", fill=\"lightblue\", colour=\"black\") +scale_x_discrete(\n",
    "    limits=rev(levels(coffee_bullet$Market))) +scale_y_continuous(\n",
    "    limits=c(0, 160000), breaks=seq(0,160000,10000)) + ylab(\n",
    "    \"Sales(lightblue) / Budget.Sales(red)\") + coord_flip() + ggtitle(\"Type = Regular\")\n",
    "\n",
    "multiplot(decaf, regular, cols=1) "
   ]
  }
 ],
 "metadata": {
  "kernelspec": {
   "display_name": "R 3.3",
   "language": "R",
   "name": "ir33"
  },
  "language_info": {
   "codemirror_mode": "r",
   "file_extension": ".r",
   "mimetype": "text/x-r-source",
   "name": "R",
   "pygments_lexer": "r",
   "version": "3.3.1"
  }
 },
 "nbformat": 4,
 "nbformat_minor": 0
}
