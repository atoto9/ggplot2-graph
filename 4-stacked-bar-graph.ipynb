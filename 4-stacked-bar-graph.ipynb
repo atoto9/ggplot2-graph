{
 "cells": [
  {
   "cell_type": "code",
   "execution_count": 1,
   "metadata": {
    "collapsed": true
   },
   "outputs": [],
   "source": [
    "library(ggplot2)\n",
    "library(plyr)\n",
    "#load(\"C:/Users/6609/Documents/data.rData\")\n",
    "Sample <- read.csv(\"data/Sample.csv\")"
   ]
  },
  {
   "cell_type": "code",
   "execution_count": 2,
   "metadata": {
    "collapsed": true
   },
   "outputs": [],
   "source": [
    "category <- ddply(Sample,~Product.Category,summarise,sum=sum(Profit))"
   ]
  },
  {
   "cell_type": "code",
   "execution_count": 3,
   "metadata": {
    "collapsed": false
   },
   "outputs": [
    {
     "data": {
      "text/html": [
       "<table>\n",
       "<thead><tr><th scope=col>Product.Category</th><th scope=col>sum</th></tr></thead>\n",
       "<tbody>\n",
       "\t<tr><td>Furniture      </td><td>177354.3       </td></tr>\n",
       "\t<tr><td>Office Supplies</td><td>451990.2       </td></tr>\n",
       "\t<tr><td>Technology     </td><td>683097.9       </td></tr>\n",
       "</tbody>\n",
       "</table>\n"
      ],
      "text/latex": [
       "\\begin{tabular}{r|ll}\n",
       " Product.Category & sum\\\\\n",
       "\\hline\n",
       "\t Furniture       & 177354.3       \\\\\n",
       "\t Office Supplies & 451990.2       \\\\\n",
       "\t Technology      & 683097.9       \\\\\n",
       "\\end{tabular}\n"
      ],
      "text/plain": [
       "  Product.Category sum     \n",
       "1 Furniture        177354.3\n",
       "2 Office Supplies  451990.2\n",
       "3 Technology       683097.9"
      ]
     },
     "metadata": {},
     "output_type": "display_data"
    }
   ],
   "source": [
    "head(category)"
   ]
  },
  {
   "cell_type": "code",
   "execution_count": 4,
   "metadata": {
    "collapsed": true
   },
   "outputs": [],
   "source": [
    "## set a symbol:total for set in x-axis\n",
    "total <- c(\"total\",\"total\",\"total\")\n",
    "category <- cbind(cate,total)"
   ]
  },
  {
   "cell_type": "code",
   "execution_count": 5,
   "metadata": {
    "collapsed": false
   },
   "outputs": [
    {
     "data": {
      "text/html": [
       "<ol class=list-inline>\n",
       "\t<li>177354.2981884</li>\n",
       "\t<li>629344.5146812</li>\n",
       "\t<li>1312442.3994236</li>\n",
       "</ol>\n"
      ],
      "text/latex": [
       "\\begin{enumerate*}\n",
       "\\item 177354.2981884\n",
       "\\item 629344.5146812\n",
       "\\item 1312442.3994236\n",
       "\\end{enumerate*}\n"
      ],
      "text/markdown": [
       "1. 177354.2981884\n",
       "2. 629344.5146812\n",
       "3. 1312442.3994236\n",
       "\n",
       "\n"
      ],
      "text/plain": [
       "[1]  177354.3  629344.5 1312442.4"
      ]
     },
     "metadata": {},
     "output_type": "display_data"
    }
   ],
   "source": [
    "label_y <- cumsum(cate$sum)\n",
    "label_y"
   ]
  },
  {
   "cell_type": "code",
   "execution_count": 7,
   "metadata": {
    "collapsed": false
   },
   "outputs": [
    {
     "data": {
      "text/html": [
       "<table>\n",
       "<thead><tr><th scope=col>Product.Category</th><th scope=col>sum</th><th scope=col>total</th><th scope=col>label_y</th></tr></thead>\n",
       "<tbody>\n",
       "\t<tr><td>Furniture      </td><td>177354.3       </td><td>total          </td><td> 177354.3      </td></tr>\n",
       "\t<tr><td>Office Supplies</td><td>451990.2       </td><td>total          </td><td> 629344.5      </td></tr>\n",
       "\t<tr><td>Technology     </td><td>683097.9       </td><td>total          </td><td>1312442.4      </td></tr>\n",
       "</tbody>\n",
       "</table>\n"
      ],
      "text/latex": [
       "\\begin{tabular}{r|llll}\n",
       " Product.Category & sum & total & label\\_y\\\\\n",
       "\\hline\n",
       "\t Furniture       & 177354.3        & total           &  177354.3      \\\\\n",
       "\t Office Supplies & 451990.2        & total           &  629344.5      \\\\\n",
       "\t Technology      & 683097.9        & total           & 1312442.4      \\\\\n",
       "\\end{tabular}\n"
      ],
      "text/plain": [
       "  Product.Category sum      total label_y  \n",
       "1 Furniture        177354.3 total  177354.3\n",
       "2 Office Supplies  451990.2 total  629344.5\n",
       "3 Technology       683097.9 total 1312442.4"
      ]
     },
     "metadata": {},
     "output_type": "display_data"
    }
   ],
   "source": [
    "category <- cbind(cate,label_y)\n",
    "category"
   ]
  },
  {
   "cell_type": "markdown",
   "metadata": {},
   "source": [
    "## Compare the following two graphs, geom_text(aes(y=)) laber_y & sum"
   ]
  },
  {
   "cell_type": "code",
   "execution_count": 10,
   "metadata": {
    "collapsed": false
   },
   "outputs": [
    {
     "data": {},
     "metadata": {},
     "output_type": "display_data"
    },
    {
     "data": {
      "image/png": "[encoded data removed]",
      "text/plain": [
       "plot without title"
      ]
     },
     "metadata": {},
     "output_type": "display_data"
    }
   ],
   "source": [
    "ggplot(cate,aes(x=total,y=sum, fill=Product.Category)) + geom_bar(\n",
    "    stat=\"identity\",width=0.1) + geom_text(aes(y=label_y, label=sum, vjust=1.5)) + scale_y_continuous(\n",
    "    limits=c(0, max(label_y)),breaks=seq(0, max(label_y), 200000))"
   ]
  },
  {
   "cell_type": "code",
   "execution_count": 11,
   "metadata": {
    "collapsed": false
   },
   "outputs": [
    {
     "data": {},
     "metadata": {},
     "output_type": "display_data"
    },
    {
     "data": {
      "image/png": "[encoded data removed]",
      "text/plain": [
       "plot without title"
      ]
     },
     "metadata": {},
     "output_type": "display_data"
    }
   ],
   "source": [
    "ggplot(cate,aes(x=total,y=sum, fill=Product.Category)) + geom_bar(\n",
    "    stat=\"identity\",width=0.1) + geom_text(aes(y=sum, label=sum, vjust=1.5)) + scale_y_continuous(\n",
    "    limits=c(0, max(label_y)),breaks=seq(0, max(label_y), 200000))"
   ]
  },
  {
   "cell_type": "code",
   "execution_count": null,
   "metadata": {
    "collapsed": true
   },
   "outputs": [],
   "source": []
  }
 ],
 "metadata": {
  "kernelspec": {
   "display_name": "R 3.3",
   "language": "R",
   "name": "ir33"
  },
  "language_info": {
   "codemirror_mode": "r",
   "file_extension": ".r",
   "mimetype": "text/x-r-source",
   "name": "R",
   "pygments_lexer": "r",
   "version": "3.3.1"
  }
 },
 "nbformat": 4,
 "nbformat_minor": 0
}
